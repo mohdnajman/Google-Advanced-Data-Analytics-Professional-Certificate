{
 "cells": [
  {
   "cell_type": "markdown",
   "metadata": {
    "id": "1WD1hC5MTRMS"
   },
   "source": [
    "# Activity: Discover what is in your dataset"
   ]
  },
  {
   "cell_type": "markdown",
   "metadata": {
    "id": "ee31943b-274e-4c28-bce6-155cb6f4c334"
   },
   "source": [
    "## Introduction\n",
    "\n",
    "In this activity, you will discover characteristics of a dataset and use visualizations to analyze the data. This will develop and strengthen your skills in **exploratory data analysis (EDA)** and your knowledge of functions that allow you to explore and visualize data. \n",
    "\n",
    "EDA is an essential process in a data science workflow. As a data professional, you will need to conduct this process to better understand the data at hand and determine how it can be used to solve the problem you want to address. This activity will give you an opportunity to practice that process and prepare you for EDA in future projects.\n",
    "\n",
    "In this activity, you are a member of an analytics team that provides insights to an investing firm. To help them decide which companies to invest in next, the firm wants insights into **unicorn companies**–companies that are valued at over one billion dollars. The data you will use for this task provides information on over 1,000 unicorn companies, including their industry, country, year founded, and select investors. You will use this information to gain insights into how and when companies reach this prestigious milestone and to make recommendations for next steps to the investing firm."
   ]
  },
  {
   "cell_type": "markdown",
   "metadata": {
    "id": "4bb9630e-b940-4835-a389-d39def1fa848"
   },
   "source": [
    "## Step 1: Imports"
   ]
  },
  {
   "cell_type": "markdown",
   "metadata": {
    "id": "bc180686-4ae2-47ea-a292-3588ac60a820"
   },
   "source": [
    "### Import libraries and packages \n",
    "\n",
    "First, import relevant Python libraries and modules. Use the `pandas` library and the `matplotlib.pyplot` module."
   ]
  },
  {
   "cell_type": "code",
   "execution_count": 1,
   "metadata": {
    "id": "8e7f1f2c-bbcc-4f3c-b927-b090ee8334c4"
   },
   "outputs": [],
   "source": [
    "# Import libraries and packages\n",
    "\n",
    "### YOUR CODE HERE ###\n",
    "import pandas as pd\n",
    "import matplotlib.pyplot as plt \n",
    "import datetime as dt "
   ]
  },
  {
   "cell_type": "markdown",
   "metadata": {
    "id": "7d29c6bd-f194-46bb-b794-56dc20130473"
   },
   "source": [
    "### Load the dataset into a DataFrame\n",
    "\n",
    "The dataset provided is in the form of a csv file named `Unicorn_Companies.csv` and contains a subset of data on unicorn companies. As shown in this cell, the dataset has been automatically loaded in for you. You do not need to download the .csv file, or provide more code, in order to access the dataset and proceed with this lab. Please continue with this activity by completing the following instructions."
   ]
  },
  {
   "cell_type": "code",
   "execution_count": 2,
   "metadata": {
    "id": "3bd40d44-080f-4e49-b0c2-160dedc3c4df"
   },
   "outputs": [],
   "source": [
    "# RUN THIS CELL TO IMPORT YOUR DATA.\n",
    "\n",
    "### YOUR CODE HERE ###\n",
    "companies = pd.read_csv(\"Unicorn_Companies.csv\")"
   ]
  },
  {
   "cell_type": "markdown",
   "metadata": {
    "id": "95bf39c9-d05c-4324-a40b-bc692607b61b"
   },
   "source": [
    "## Step 2: Data exploration"
   ]
  },
  {
   "cell_type": "markdown",
   "metadata": {
    "id": "26561614-8e9b-4840-8dbf-b50131ae5314",
    "tags": []
   },
   "source": [
    "### Display the first 10 rows of the data\n",
    "\n",
    "Next, explore the dataset and answer questions to guide your exploration and analysis of the data. To begin, display the first 10 rows of the data to get an understanding of how the dataset is structured."
   ]
  },
  {
   "cell_type": "code",
   "execution_count": 3,
   "metadata": {
    "id": "ad5210a5-7a64-4991-b004-de818cfaf506"
   },
   "outputs": [
    {
     "data": {
      "text/html": [
       "<div>\n",
       "<style scoped>\n",
       "    .dataframe tbody tr th:only-of-type {\n",
       "        vertical-align: middle;\n",
       "    }\n",
       "\n",
       "    .dataframe tbody tr th {\n",
       "        vertical-align: top;\n",
       "    }\n",
       "\n",
       "    .dataframe thead th {\n",
       "        text-align: right;\n",
       "    }\n",
       "</style>\n",
       "<table border=\"1\" class=\"dataframe\">\n",
       "  <thead>\n",
       "    <tr style=\"text-align: right;\">\n",
       "      <th></th>\n",
       "      <th>Company</th>\n",
       "      <th>Valuation</th>\n",
       "      <th>Date Joined</th>\n",
       "      <th>Industry</th>\n",
       "      <th>City</th>\n",
       "      <th>Country/Region</th>\n",
       "      <th>Continent</th>\n",
       "      <th>Year Founded</th>\n",
       "      <th>Funding</th>\n",
       "      <th>Select Investors</th>\n",
       "    </tr>\n",
       "  </thead>\n",
       "  <tbody>\n",
       "    <tr>\n",
       "      <th>0</th>\n",
       "      <td>Bytedance</td>\n",
       "      <td>$180B</td>\n",
       "      <td>4/7/17</td>\n",
       "      <td>Artificial intelligence</td>\n",
       "      <td>Beijing</td>\n",
       "      <td>China</td>\n",
       "      <td>Asia</td>\n",
       "      <td>2012</td>\n",
       "      <td>$8B</td>\n",
       "      <td>Sequoia Capital China, SIG Asia Investments, S...</td>\n",
       "    </tr>\n",
       "    <tr>\n",
       "      <th>1</th>\n",
       "      <td>SpaceX</td>\n",
       "      <td>$100B</td>\n",
       "      <td>12/1/12</td>\n",
       "      <td>Other</td>\n",
       "      <td>Hawthorne</td>\n",
       "      <td>United States</td>\n",
       "      <td>North America</td>\n",
       "      <td>2002</td>\n",
       "      <td>$7B</td>\n",
       "      <td>Founders Fund, Draper Fisher Jurvetson, Rothen...</td>\n",
       "    </tr>\n",
       "    <tr>\n",
       "      <th>2</th>\n",
       "      <td>SHEIN</td>\n",
       "      <td>$100B</td>\n",
       "      <td>7/3/18</td>\n",
       "      <td>E-commerce &amp; direct-to-consumer</td>\n",
       "      <td>Shenzhen</td>\n",
       "      <td>China</td>\n",
       "      <td>Asia</td>\n",
       "      <td>2008</td>\n",
       "      <td>$2B</td>\n",
       "      <td>Tiger Global Management, Sequoia Capital China...</td>\n",
       "    </tr>\n",
       "    <tr>\n",
       "      <th>3</th>\n",
       "      <td>Stripe</td>\n",
       "      <td>$95B</td>\n",
       "      <td>1/23/14</td>\n",
       "      <td>Fintech</td>\n",
       "      <td>San Francisco</td>\n",
       "      <td>United States</td>\n",
       "      <td>North America</td>\n",
       "      <td>2010</td>\n",
       "      <td>$2B</td>\n",
       "      <td>Khosla Ventures, LowercaseCapital, capitalG</td>\n",
       "    </tr>\n",
       "    <tr>\n",
       "      <th>4</th>\n",
       "      <td>Klarna</td>\n",
       "      <td>$46B</td>\n",
       "      <td>12/12/11</td>\n",
       "      <td>Fintech</td>\n",
       "      <td>Stockholm</td>\n",
       "      <td>Sweden</td>\n",
       "      <td>Europe</td>\n",
       "      <td>2005</td>\n",
       "      <td>$4B</td>\n",
       "      <td>Institutional Venture Partners, Sequoia Capita...</td>\n",
       "    </tr>\n",
       "    <tr>\n",
       "      <th>5</th>\n",
       "      <td>Canva</td>\n",
       "      <td>$40B</td>\n",
       "      <td>1/8/18</td>\n",
       "      <td>Internet software &amp; services</td>\n",
       "      <td>Surry Hills</td>\n",
       "      <td>Australia</td>\n",
       "      <td>Oceania</td>\n",
       "      <td>2012</td>\n",
       "      <td>$572M</td>\n",
       "      <td>Sequoia Capital China, Blackbird Ventures, Mat...</td>\n",
       "    </tr>\n",
       "    <tr>\n",
       "      <th>6</th>\n",
       "      <td>Checkout.com</td>\n",
       "      <td>$40B</td>\n",
       "      <td>5/2/19</td>\n",
       "      <td>Fintech</td>\n",
       "      <td>London</td>\n",
       "      <td>United Kingdom</td>\n",
       "      <td>Europe</td>\n",
       "      <td>2012</td>\n",
       "      <td>$2B</td>\n",
       "      <td>Tiger Global Management, Insight Partners, DST...</td>\n",
       "    </tr>\n",
       "    <tr>\n",
       "      <th>7</th>\n",
       "      <td>Instacart</td>\n",
       "      <td>$39B</td>\n",
       "      <td>12/30/14</td>\n",
       "      <td>Supply chain, logistics, &amp; delivery</td>\n",
       "      <td>San Francisco</td>\n",
       "      <td>United States</td>\n",
       "      <td>North America</td>\n",
       "      <td>2012</td>\n",
       "      <td>$3B</td>\n",
       "      <td>Khosla Ventures, Kleiner Perkins Caufield &amp; By...</td>\n",
       "    </tr>\n",
       "    <tr>\n",
       "      <th>8</th>\n",
       "      <td>JUUL Labs</td>\n",
       "      <td>$38B</td>\n",
       "      <td>12/20/17</td>\n",
       "      <td>Consumer &amp; retail</td>\n",
       "      <td>San Francisco</td>\n",
       "      <td>United States</td>\n",
       "      <td>North America</td>\n",
       "      <td>2015</td>\n",
       "      <td>$14B</td>\n",
       "      <td>Tiger Global Management</td>\n",
       "    </tr>\n",
       "    <tr>\n",
       "      <th>9</th>\n",
       "      <td>Databricks</td>\n",
       "      <td>$38B</td>\n",
       "      <td>2/5/19</td>\n",
       "      <td>Data management &amp; analytics</td>\n",
       "      <td>San Francisco</td>\n",
       "      <td>United States</td>\n",
       "      <td>North America</td>\n",
       "      <td>2013</td>\n",
       "      <td>$3B</td>\n",
       "      <td>Andreessen Horowitz, New Enterprise Associates...</td>\n",
       "    </tr>\n",
       "  </tbody>\n",
       "</table>\n",
       "</div>"
      ],
      "text/plain": [
       "        Company Valuation Date Joined                             Industry  \\\n",
       "0     Bytedance     $180B      4/7/17              Artificial intelligence   \n",
       "1        SpaceX     $100B     12/1/12                                Other   \n",
       "2         SHEIN     $100B      7/3/18      E-commerce & direct-to-consumer   \n",
       "3        Stripe      $95B     1/23/14                              Fintech   \n",
       "4        Klarna      $46B    12/12/11                              Fintech   \n",
       "5         Canva      $40B      1/8/18         Internet software & services   \n",
       "6  Checkout.com      $40B      5/2/19                              Fintech   \n",
       "7     Instacart      $39B    12/30/14  Supply chain, logistics, & delivery   \n",
       "8     JUUL Labs      $38B    12/20/17                    Consumer & retail   \n",
       "9    Databricks      $38B      2/5/19          Data management & analytics   \n",
       "\n",
       "            City  Country/Region      Continent  Year Founded Funding  \\\n",
       "0        Beijing           China           Asia          2012     $8B   \n",
       "1      Hawthorne   United States  North America          2002     $7B   \n",
       "2       Shenzhen           China           Asia          2008     $2B   \n",
       "3  San Francisco   United States  North America          2010     $2B   \n",
       "4      Stockholm          Sweden         Europe          2005     $4B   \n",
       "5    Surry Hills       Australia        Oceania          2012   $572M   \n",
       "6         London  United Kingdom         Europe          2012     $2B   \n",
       "7  San Francisco   United States  North America          2012     $3B   \n",
       "8  San Francisco   United States  North America          2015    $14B   \n",
       "9  San Francisco   United States  North America          2013     $3B   \n",
       "\n",
       "                                    Select Investors  \n",
       "0  Sequoia Capital China, SIG Asia Investments, S...  \n",
       "1  Founders Fund, Draper Fisher Jurvetson, Rothen...  \n",
       "2  Tiger Global Management, Sequoia Capital China...  \n",
       "3        Khosla Ventures, LowercaseCapital, capitalG  \n",
       "4  Institutional Venture Partners, Sequoia Capita...  \n",
       "5  Sequoia Capital China, Blackbird Ventures, Mat...  \n",
       "6  Tiger Global Management, Insight Partners, DST...  \n",
       "7  Khosla Ventures, Kleiner Perkins Caufield & By...  \n",
       "8                            Tiger Global Management  \n",
       "9  Andreessen Horowitz, New Enterprise Associates...  "
      ]
     },
     "execution_count": 3,
     "metadata": {},
     "output_type": "execute_result"
    }
   ],
   "source": [
    "# Display the first 10 rows of the data\n",
    "\n",
    "### YOUR CODE HERE ###\n",
    "companies.head(10)"
   ]
  },
  {
   "cell_type": "markdown",
   "metadata": {
    "id": "fb45ed17-5e22-4d48-9750-130a8586bbf9",
    "tags": []
   },
   "source": [
    "**Question:** What do you think the \"Date Joined\" column represents?\n",
    "> *The \"Date Joined\" column is the date when the company became a \"unicorn\" which is one billion dollars in valuation.*"
   ]
  },
  {
   "cell_type": "markdown",
   "metadata": {
    "id": "46e7fce4-b8dc-4f53-9f5f-a7d7fdfe0831",
    "tags": []
   },
   "source": [
    "**Question:** What do you think the \"Select Investors\" column represents?\n",
    "> *The \"Select Investors\" column is the list of the top company investors*"
   ]
  },
  {
   "cell_type": "markdown",
   "metadata": {
    "id": "6d423621-c14b-4987-a76d-feee76046144"
   },
   "source": [
    "### Assess the size of the dataset\n",
    "\n",
    "Get a sense of how large the dataset is. The `size` property that DataFrames have can help."
   ]
  },
  {
   "cell_type": "code",
   "execution_count": 4,
   "metadata": {
    "id": "1856c3c8-dd7e-4b0f-8e30-06e8ed6b9885"
   },
   "outputs": [
    {
     "data": {
      "text/plain": [
       "10740"
      ]
     },
     "execution_count": 4,
     "metadata": {},
     "output_type": "execute_result"
    }
   ],
   "source": [
    "# How large the dataset is\n",
    "\n",
    "### YOUR CODE HERE ###\n",
    "companies.size"
   ]
  },
  {
   "cell_type": "markdown",
   "metadata": {
    "id": "a1188994-353a-466e-884c-e7b770fa03ac",
    "jp-MarkdownHeadingCollapsed": true,
    "tags": []
   },
   "source": [
    "**Question:** What do you notice about the size of the dataset?\n",
    "> *The size of the dataset is 10740. This means that there are 10740 entries in the whole dataset.*"
   ]
  },
  {
   "cell_type": "markdown",
   "metadata": {
    "id": "e31095a6-5526-42d3-b1c0-b77c1f8b3852"
   },
   "source": [
    "### Determine the shape of the dataset\n",
    "\n",
    "Identify the number of rows and columns in the dataset. The `shape` property that DataFrames have can help."
   ]
  },
  {
   "cell_type": "code",
   "execution_count": 5,
   "metadata": {
    "id": "df3c71a1-2519-4c50-86c2-63902a534d27"
   },
   "outputs": [
    {
     "data": {
      "text/plain": [
       "(1074, 10)"
      ]
     },
     "execution_count": 5,
     "metadata": {},
     "output_type": "execute_result"
    }
   ],
   "source": [
    "# Shape of the dataset\n",
    "\n",
    "### YOUR CODE HERE ###\n",
    "companies.shape"
   ]
  },
  {
   "cell_type": "markdown",
   "metadata": {
    "id": "4c2998a8-f864-43eb-a2d5-64845ebc805c"
   },
   "source": [
    "**Question:** What do you notice about the shape of the dataset?\n",
    "> *The shape of the dataset is (1074, 10). This means that there are 1074 rows an 10 columns. The dataset has 10 columns which shows the 10 aspects of each company.*"
   ]
  },
  {
   "cell_type": "markdown",
   "metadata": {
    "id": "b9c8ecb7-c202-4d0a-92ad-b6b6737bc167"
   },
   "source": [
    "### Get basic information about the dataset\n",
    "\n",
    "To further understand what the dataset entails, get basic information about the dataset, including the data type of values in each column. There is more than one way to approach this task. In this instance, use the `info()` function from `pandas`."
   ]
  },
  {
   "cell_type": "code",
   "execution_count": 6,
   "metadata": {
    "id": "eedad8b8-ca45-430e-91d2-eff3ad66adaf"
   },
   "outputs": [
    {
     "name": "stdout",
     "output_type": "stream",
     "text": [
      "<class 'pandas.core.frame.DataFrame'>\n",
      "RangeIndex: 1074 entries, 0 to 1073\n",
      "Data columns (total 10 columns):\n",
      " #   Column            Non-Null Count  Dtype \n",
      "---  ------            --------------  ----- \n",
      " 0   Company           1074 non-null   object\n",
      " 1   Valuation         1074 non-null   object\n",
      " 2   Date Joined       1074 non-null   object\n",
      " 3   Industry          1074 non-null   object\n",
      " 4   City              1058 non-null   object\n",
      " 5   Country/Region    1074 non-null   object\n",
      " 6   Continent         1074 non-null   object\n",
      " 7   Year Founded      1074 non-null   int64 \n",
      " 8   Funding           1074 non-null   object\n",
      " 9   Select Investors  1073 non-null   object\n",
      "dtypes: int64(1), object(9)\n",
      "memory usage: 84.0+ KB\n"
     ]
    }
   ],
   "source": [
    "# Get information\n",
    "\n",
    "### YOUR CODE HERE ###\n",
    "companies.info()"
   ]
  },
  {
   "cell_type": "markdown",
   "metadata": {
    "id": "bd6573bc-2adb-410e-a85c-d6d5886d51bf"
   },
   "source": [
    "**Question:** What do you notice about the type of data in the `Year Founded` column?\n",
    "> *The data type of the `Year Founded` is `int64` which is an integer.*"
   ]
  },
  {
   "cell_type": "markdown",
   "metadata": {
    "id": "e6da795c-331b-4271-9825-103112cb08da"
   },
   "source": [
    "**Question:** What do you notice about the type of data in the `Date Joined` column?\n",
    "\n",
    "> *The data type of the `Date joinded` is `object` which means that the `Data Joined` is represented as an object.*"
   ]
  },
  {
   "cell_type": "markdown",
   "metadata": {
    "id": "XFkjw_Ke2Cjn"
   },
   "source": [
    "## Step 3: Statistical tests"
   ]
  },
  {
   "cell_type": "markdown",
   "metadata": {
    "id": "7dac147e-19e1-49e7-bd80-e122390c3a70",
    "tags": []
   },
   "source": [
    "### Find descriptive statistics\n",
    "\n",
    "Find descriptive statistics and structure your dataset. The `describe()` function from the `pandas` library can help. This function generates statistics for the numeric columns in a dataset. "
   ]
  },
  {
   "cell_type": "code",
   "execution_count": 7,
   "metadata": {
    "id": "13f1c1dd-5637-4726-8fa0-2fbd838e4afa"
   },
   "outputs": [
    {
     "data": {
      "text/html": [
       "<div>\n",
       "<style scoped>\n",
       "    .dataframe tbody tr th:only-of-type {\n",
       "        vertical-align: middle;\n",
       "    }\n",
       "\n",
       "    .dataframe tbody tr th {\n",
       "        vertical-align: top;\n",
       "    }\n",
       "\n",
       "    .dataframe thead th {\n",
       "        text-align: right;\n",
       "    }\n",
       "</style>\n",
       "<table border=\"1\" class=\"dataframe\">\n",
       "  <thead>\n",
       "    <tr style=\"text-align: right;\">\n",
       "      <th></th>\n",
       "      <th>Year Founded</th>\n",
       "    </tr>\n",
       "  </thead>\n",
       "  <tbody>\n",
       "    <tr>\n",
       "      <th>count</th>\n",
       "      <td>1074.000000</td>\n",
       "    </tr>\n",
       "    <tr>\n",
       "      <th>mean</th>\n",
       "      <td>2012.895717</td>\n",
       "    </tr>\n",
       "    <tr>\n",
       "      <th>std</th>\n",
       "      <td>5.698573</td>\n",
       "    </tr>\n",
       "    <tr>\n",
       "      <th>min</th>\n",
       "      <td>1919.000000</td>\n",
       "    </tr>\n",
       "    <tr>\n",
       "      <th>25%</th>\n",
       "      <td>2011.000000</td>\n",
       "    </tr>\n",
       "    <tr>\n",
       "      <th>50%</th>\n",
       "      <td>2014.000000</td>\n",
       "    </tr>\n",
       "    <tr>\n",
       "      <th>75%</th>\n",
       "      <td>2016.000000</td>\n",
       "    </tr>\n",
       "    <tr>\n",
       "      <th>max</th>\n",
       "      <td>2021.000000</td>\n",
       "    </tr>\n",
       "  </tbody>\n",
       "</table>\n",
       "</div>"
      ],
      "text/plain": [
       "       Year Founded\n",
       "count   1074.000000\n",
       "mean    2012.895717\n",
       "std        5.698573\n",
       "min     1919.000000\n",
       "25%     2011.000000\n",
       "50%     2014.000000\n",
       "75%     2016.000000\n",
       "max     2021.000000"
      ]
     },
     "execution_count": 7,
     "metadata": {},
     "output_type": "execute_result"
    }
   ],
   "source": [
    "# Get descriptive statistics\n",
    "\n",
    "### YOUR CODE HERE ###\n",
    "companies.describe()"
   ]
  },
  {
   "cell_type": "markdown",
   "metadata": {
    "id": "a70475eb-d3a6-42e4-8b71-a49b5a1aa0db"
   },
   "source": [
    "**Question:** Based on the table of descriptive stats generated above, what do you notice about the minimum value in the `Year Founded` column?\n",
    "\n",
    "> *The minimum value of the `Year Founded` is 1919. This means that this dataset does not contain data on unicorn companies founded before 1919.*"
   ]
  },
  {
   "cell_type": "markdown",
   "metadata": {
    "id": "390764a7-961c-4ec7-ae11-38943d94b788",
    "tags": []
   },
   "source": [
    "**Question:** What do you notice about the maximum value in the `Year Founded` column?\n",
    "\n",
    "> *The maximum value of the `Year Founded` is 2021. This means that this dataset does not include data on unicorn companies founded after 2021.*"
   ]
  },
  {
   "cell_type": "markdown",
   "metadata": {
    "id": "94b53c7f-54d8-4d1a-ae07-7c28c2ab8f5b",
    "tags": []
   },
   "source": [
    "### Convert the `Date Joined` column to datetime\n",
    "\n",
    "Use the `to_datetime()` function from the `pandas` library  to convert the `Date Joined` column to datetime. This splits each value into year, month, and date components. This is an important step in data cleaning, as it makes the data in this column easier to use in tasks you may encounter. To name a few examples, you may need to compare \"date joined\" between companies or determine how long it took a company to become a unicorn. Having \"date joined\" in datetime form would help you complete such tasks."
   ]
  },
  {
   "cell_type": "code",
   "execution_count": 8,
   "metadata": {
    "id": "afe607c8-9dd7-47c3-9fc8-88772f015e2b"
   },
   "outputs": [
    {
     "name": "stdout",
     "output_type": "stream",
     "text": [
      "<class 'pandas.core.frame.DataFrame'>\n",
      "RangeIndex: 1074 entries, 0 to 1073\n",
      "Data columns (total 10 columns):\n",
      " #   Column            Non-Null Count  Dtype         \n",
      "---  ------            --------------  -----         \n",
      " 0   Company           1074 non-null   object        \n",
      " 1   Valuation         1074 non-null   object        \n",
      " 2   Date Joined       1074 non-null   datetime64[ns]\n",
      " 3   Industry          1074 non-null   object        \n",
      " 4   City              1058 non-null   object        \n",
      " 5   Country/Region    1074 non-null   object        \n",
      " 6   Continent         1074 non-null   object        \n",
      " 7   Year Founded      1074 non-null   int64         \n",
      " 8   Funding           1074 non-null   object        \n",
      " 9   Select Investors  1073 non-null   object        \n",
      "dtypes: datetime64[ns](1), int64(1), object(8)\n",
      "memory usage: 84.0+ KB\n"
     ]
    }
   ],
   "source": [
    "### YOUR CODE HERE ###\n",
    "companies['Date Joined'] = pd.to_datetime(companies['Date Joined'])\n",
    "companies.info()"
   ]
  },
  {
   "cell_type": "markdown",
   "metadata": {
    "id": "ae351a97-926e-40af-91e2-4bd12a5bf888",
    "tags": []
   },
   "source": [
    "### Create a `Year Joined` column\n",
    "\n",
    "It is common to encounter situations where you will need to compare the year joined with the year founded. The `Date Joined` column does not just have year—it has the year, month, and date. Extract the year component from the `Date Joined` column and add those year components into a new column to keep track of each company's year joined."
   ]
  },
  {
   "cell_type": "code",
   "execution_count": 9,
   "metadata": {
    "id": "7d8be21b-d625-4a8a-ad8b-a2e4ae7a2c4e"
   },
   "outputs": [
    {
     "data": {
      "text/html": [
       "<div>\n",
       "<style scoped>\n",
       "    .dataframe tbody tr th:only-of-type {\n",
       "        vertical-align: middle;\n",
       "    }\n",
       "\n",
       "    .dataframe tbody tr th {\n",
       "        vertical-align: top;\n",
       "    }\n",
       "\n",
       "    .dataframe thead th {\n",
       "        text-align: right;\n",
       "    }\n",
       "</style>\n",
       "<table border=\"1\" class=\"dataframe\">\n",
       "  <thead>\n",
       "    <tr style=\"text-align: right;\">\n",
       "      <th></th>\n",
       "      <th>Company</th>\n",
       "      <th>Valuation</th>\n",
       "      <th>Date Joined</th>\n",
       "      <th>Industry</th>\n",
       "      <th>City</th>\n",
       "      <th>Country/Region</th>\n",
       "      <th>Continent</th>\n",
       "      <th>Year Founded</th>\n",
       "      <th>Funding</th>\n",
       "      <th>Select Investors</th>\n",
       "      <th>Year Joined</th>\n",
       "    </tr>\n",
       "  </thead>\n",
       "  <tbody>\n",
       "    <tr>\n",
       "      <th>0</th>\n",
       "      <td>Bytedance</td>\n",
       "      <td>$180B</td>\n",
       "      <td>2017-04-07</td>\n",
       "      <td>Artificial intelligence</td>\n",
       "      <td>Beijing</td>\n",
       "      <td>China</td>\n",
       "      <td>Asia</td>\n",
       "      <td>2012</td>\n",
       "      <td>$8B</td>\n",
       "      <td>Sequoia Capital China, SIG Asia Investments, S...</td>\n",
       "      <td>2017</td>\n",
       "    </tr>\n",
       "    <tr>\n",
       "      <th>1</th>\n",
       "      <td>SpaceX</td>\n",
       "      <td>$100B</td>\n",
       "      <td>2012-12-01</td>\n",
       "      <td>Other</td>\n",
       "      <td>Hawthorne</td>\n",
       "      <td>United States</td>\n",
       "      <td>North America</td>\n",
       "      <td>2002</td>\n",
       "      <td>$7B</td>\n",
       "      <td>Founders Fund, Draper Fisher Jurvetson, Rothen...</td>\n",
       "      <td>2012</td>\n",
       "    </tr>\n",
       "    <tr>\n",
       "      <th>2</th>\n",
       "      <td>SHEIN</td>\n",
       "      <td>$100B</td>\n",
       "      <td>2018-07-03</td>\n",
       "      <td>E-commerce &amp; direct-to-consumer</td>\n",
       "      <td>Shenzhen</td>\n",
       "      <td>China</td>\n",
       "      <td>Asia</td>\n",
       "      <td>2008</td>\n",
       "      <td>$2B</td>\n",
       "      <td>Tiger Global Management, Sequoia Capital China...</td>\n",
       "      <td>2018</td>\n",
       "    </tr>\n",
       "    <tr>\n",
       "      <th>3</th>\n",
       "      <td>Stripe</td>\n",
       "      <td>$95B</td>\n",
       "      <td>2014-01-23</td>\n",
       "      <td>Fintech</td>\n",
       "      <td>San Francisco</td>\n",
       "      <td>United States</td>\n",
       "      <td>North America</td>\n",
       "      <td>2010</td>\n",
       "      <td>$2B</td>\n",
       "      <td>Khosla Ventures, LowercaseCapital, capitalG</td>\n",
       "      <td>2014</td>\n",
       "    </tr>\n",
       "    <tr>\n",
       "      <th>4</th>\n",
       "      <td>Klarna</td>\n",
       "      <td>$46B</td>\n",
       "      <td>2011-12-12</td>\n",
       "      <td>Fintech</td>\n",
       "      <td>Stockholm</td>\n",
       "      <td>Sweden</td>\n",
       "      <td>Europe</td>\n",
       "      <td>2005</td>\n",
       "      <td>$4B</td>\n",
       "      <td>Institutional Venture Partners, Sequoia Capita...</td>\n",
       "      <td>2011</td>\n",
       "    </tr>\n",
       "  </tbody>\n",
       "</table>\n",
       "</div>"
      ],
      "text/plain": [
       "     Company Valuation Date Joined                         Industry  \\\n",
       "0  Bytedance     $180B  2017-04-07          Artificial intelligence   \n",
       "1     SpaceX     $100B  2012-12-01                            Other   \n",
       "2      SHEIN     $100B  2018-07-03  E-commerce & direct-to-consumer   \n",
       "3     Stripe      $95B  2014-01-23                          Fintech   \n",
       "4     Klarna      $46B  2011-12-12                          Fintech   \n",
       "\n",
       "            City Country/Region      Continent  Year Founded Funding  \\\n",
       "0        Beijing          China           Asia          2012     $8B   \n",
       "1      Hawthorne  United States  North America          2002     $7B   \n",
       "2       Shenzhen          China           Asia          2008     $2B   \n",
       "3  San Francisco  United States  North America          2010     $2B   \n",
       "4      Stockholm         Sweden         Europe          2005     $4B   \n",
       "\n",
       "                                    Select Investors  Year Joined  \n",
       "0  Sequoia Capital China, SIG Asia Investments, S...         2017  \n",
       "1  Founders Fund, Draper Fisher Jurvetson, Rothen...         2012  \n",
       "2  Tiger Global Management, Sequoia Capital China...         2018  \n",
       "3        Khosla Ventures, LowercaseCapital, capitalG         2014  \n",
       "4  Institutional Venture Partners, Sequoia Capita...         2011  "
      ]
     },
     "execution_count": 9,
     "metadata": {},
     "output_type": "execute_result"
    }
   ],
   "source": [
    "# Step 1: Use .dt.year to extract year component from Date Joined column\n",
    "# Step 2: Add the result as a new column named Year Joined to the DataFrame\n",
    "\n",
    "### YOUR CODE HERE ###\n",
    "companies['Year Joined'] = companies['Date Joined'].dt.year\n",
    "companies.head(5)"
   ]
  },
  {
   "cell_type": "markdown",
   "metadata": {
    "id": "B4_yxUrQ2Yhp"
   },
   "source": [
    "## Step 4: Results and evaluation\n"
   ]
  },
  {
   "cell_type": "markdown",
   "metadata": {
    "id": "5a99bfd0-95e9-4ed3-a01a-2e430967f98e",
    "tags": []
   },
   "source": [
    "### Take a sample of the data\n",
    "\n",
    "It is not necessary to take a sample of the data in order to conduct the visualizations and EDA that follow. But you may encounter scenarios in the future where you will need to take a sample of the data due to time and resource limitations. For the purpose of developing your skills around sampling, take a sample of the data and work with that sample for the next steps of analysis you want to conduct. Use the `sample()` function for this task.\n",
    "\n",
    "- Use `sample()` with the `n` parameter set to `50` to randomly sample 50 unicorn companies from the data. Be sure to specify the `random_state` parameter to ensure reproducibility of your work. Save the result to a variable called `companies_sampled`."
   ]
  },
  {
   "cell_type": "code",
   "execution_count": 10,
   "metadata": {
    "id": "1e5df00e-d64f-417c-b7fc-311a960ecc8c"
   },
   "outputs": [],
   "source": [
    "# Sample the data\n",
    "\n",
    "### YOUR CODE HERE ###\n",
    "companies_sampled = companies.sample(n=50, random_state=42)"
   ]
  },
  {
   "cell_type": "markdown",
   "metadata": {
    "id": "10beff64-16e0-464d-93f0-03ab61f7069b",
    "tags": []
   },
   "source": [
    "### Visualize the time it took companies to reach unicorn status\n",
    "\n",
    "Visualize the longest time it took companies to reach unicorn status for each industry represented in the sample. To create a bar plot to visualize this, use the `bar()` function from the `matplotlib.pyplot` module. You'll first need to prepare the data."
   ]
  },
  {
   "cell_type": "code",
   "execution_count": 11,
   "metadata": {},
   "outputs": [
    {
     "data": {
      "text/html": [
       "<div>\n",
       "<style scoped>\n",
       "    .dataframe tbody tr th:only-of-type {\n",
       "        vertical-align: middle;\n",
       "    }\n",
       "\n",
       "    .dataframe tbody tr th {\n",
       "        vertical-align: top;\n",
       "    }\n",
       "\n",
       "    .dataframe thead th {\n",
       "        text-align: right;\n",
       "    }\n",
       "</style>\n",
       "<table border=\"1\" class=\"dataframe\">\n",
       "  <thead>\n",
       "    <tr style=\"text-align: right;\">\n",
       "      <th></th>\n",
       "      <th>years_to_unicorn</th>\n",
       "    </tr>\n",
       "    <tr>\n",
       "      <th>Industry</th>\n",
       "      <th></th>\n",
       "    </tr>\n",
       "  </thead>\n",
       "  <tbody>\n",
       "    <tr>\n",
       "      <th>Consumer &amp; retail</th>\n",
       "      <td>1.0</td>\n",
       "    </tr>\n",
       "    <tr>\n",
       "      <th>Auto &amp; transportation</th>\n",
       "      <td>2.0</td>\n",
       "    </tr>\n",
       "    <tr>\n",
       "      <th>Artificial intelligence</th>\n",
       "      <td>5.0</td>\n",
       "    </tr>\n",
       "    <tr>\n",
       "      <th>Data management &amp; analytics</th>\n",
       "      <td>8.0</td>\n",
       "    </tr>\n",
       "    <tr>\n",
       "      <th>Mobile &amp; telecommunications</th>\n",
       "      <td>9.0</td>\n",
       "    </tr>\n",
       "    <tr>\n",
       "      <th>Supply chain, logistics, &amp; delivery</th>\n",
       "      <td>12.0</td>\n",
       "    </tr>\n",
       "    <tr>\n",
       "      <th>Internet software &amp; services</th>\n",
       "      <td>13.0</td>\n",
       "    </tr>\n",
       "    <tr>\n",
       "      <th>Other</th>\n",
       "      <td>15.0</td>\n",
       "    </tr>\n",
       "    <tr>\n",
       "      <th>E-commerce &amp; direct-to-consumer</th>\n",
       "      <td>18.0</td>\n",
       "    </tr>\n",
       "    <tr>\n",
       "      <th>Cybersecurity</th>\n",
       "      <td>19.0</td>\n",
       "    </tr>\n",
       "    <tr>\n",
       "      <th>Fintech</th>\n",
       "      <td>21.0</td>\n",
       "    </tr>\n",
       "    <tr>\n",
       "      <th>Health</th>\n",
       "      <td>21.0</td>\n",
       "    </tr>\n",
       "  </tbody>\n",
       "</table>\n",
       "</div>"
      ],
      "text/plain": [
       "                                     years_to_unicorn\n",
       "Industry                                             \n",
       "Consumer & retail                                 1.0\n",
       "Auto & transportation                             2.0\n",
       "Artificial intelligence                           5.0\n",
       "Data management & analytics                       8.0\n",
       "Mobile & telecommunications                       9.0\n",
       "Supply chain, logistics, & delivery              12.0\n",
       "Internet software & services                     13.0\n",
       "Other                                            15.0\n",
       "E-commerce & direct-to-consumer                  18.0\n",
       "Cybersecurity                                    19.0\n",
       "Fintech                                          21.0\n",
       "Health                                           21.0"
      ]
     },
     "execution_count": 11,
     "metadata": {},
     "output_type": "execute_result"
    }
   ],
   "source": [
    "# Prepare data for plotting\n",
    "\n",
    "### YOUR CODE HERE ###\n",
    "companies_sampled['years_to_unicorn'] = companies_sampled['Year Joined'] - companies['Year Founded']\n",
    "\n",
    "grouped = ( companies_sampled[['Industry', 'years_to_unicorn']]\n",
    "            .groupby(['Industry'])\n",
    "            .max()\n",
    "            .sort_values(['years_to_unicorn'], ascending=True)\n",
    "          )\n",
    "grouped"
   ]
  },
  {
   "cell_type": "code",
   "execution_count": 12,
   "metadata": {
    "id": "1153ca76-f1e3-4fea-a2db-a5de23614abd"
   },
   "outputs": [
    {
     "data": {
      "image/png": "[encoded data removed]",
      "text/plain": [
       "<Figure size 432x288 with 1 Axes>"
      ]
     },
     "metadata": {
      "needs_background": "light"
     },
     "output_type": "display_data"
    }
   ],
   "source": [
    "# Create bar plot\n",
    "# with the various industries as the categories of the bars\n",
    "# and the time it took to reach unicorn status as the height of the bars\n",
    "\n",
    "### YOUR CODE HERE ###\n",
    "plt.bar(grouped.index, grouped['years_to_unicorn'])\n",
    "\n",
    "plt.title('Max years taken by company in their industry to be unicorn (from sample)')\n",
    "plt.xlabel(\"Industry\")\n",
    "plt.ylabel('Maximum number of years')\n",
    "plt.xticks(rotation=45, horizontalalignment='right')\n",
    "plt.show()"
   ]
  },
  {
   "cell_type": "markdown",
   "metadata": {
    "id": "59a1254d-4c99-49a6-b8fa-8dbd26bff000"
   },
   "source": [
    "**Question:** What do you observe from this bar plot?\n",
    "> *The bar plot in this sample shows that the Heath and Fintech industries taken maximum time taken to become a unicorn, while the Consumer & Retail industry taken the minimun time.*"
   ]
  },
  {
   "cell_type": "markdown",
   "metadata": {
    "id": "95bc4742-40ff-4f02-ba94-b25f95094e54",
    "tags": []
   },
   "source": [
    "### Visualize the maximum unicorn company valuation per industry\n",
    "\n",
    "Visualize unicorn companies' maximum valuation for each industry represented in the sample. To create a bar plot to visualize this, use the `bar()` function from the `matplotlib.pyplot` module. Before plotting, create a new column that represents the companies' valuations as numbers (instead of strings, as they're currently represented). Then, use this new column to plot your data."
   ]
  },
  {
   "cell_type": "code",
   "execution_count": 20,
   "metadata": {},
   "outputs": [
    {
     "name": "stdout",
     "output_type": "stream",
     "text": [
      "<class 'pandas.core.frame.DataFrame'>\n",
      "Int64Index: 50 entries, 542 to 342\n",
      "Data columns (total 13 columns):\n",
      " #   Column            Non-Null Count  Dtype         \n",
      "---  ------            --------------  -----         \n",
      " 0   Company           50 non-null     object        \n",
      " 1   Valuation         50 non-null     object        \n",
      " 2   Date Joined       50 non-null     datetime64[ns]\n",
      " 3   Industry          50 non-null     object        \n",
      " 4   City              50 non-null     object        \n",
      " 5   Country/Region    50 non-null     object        \n",
      " 6   Continent         50 non-null     object        \n",
      " 7   Year Founded      50 non-null     int64         \n",
      " 8   Funding           50 non-null     object        \n",
      " 9   Select Investors  50 non-null     object        \n",
      " 10  Year Joined       50 non-null     int64         \n",
      " 11  years_to_unicorn  50 non-null     float64       \n",
      " 12  valuation_number  50 non-null     int64         \n",
      "dtypes: datetime64[ns](1), float64(1), int64(3), object(8)\n",
      "memory usage: 7.5+ KB\n"
     ]
    }
   ],
   "source": [
    "# Create a column representing company valuation as numeric data\n",
    "\n",
    "companies_sampled['valuation_number'] = companies_sampled['Valuation']\n",
    "companies_sampled['valuation_number'] = companies_sampled['valuation_number'].str.replace('B', '')\n",
    "companies_sampled['valuation_number'] = companies_sampled['valuation_number'].str.replace('$', '')\n",
    "companies_sampled['valuation_number'] = companies_sampled['valuation_number'].astype('int')\n",
    "companies_sampled.info()"
   ]
  },
  {
   "cell_type": "code",
   "execution_count": 22,
   "metadata": {
    "id": "5ccf1d5e-877e-4e73-bba8-23875c72494d"
   },
   "outputs": [
    {
     "data": {
      "image/png": "[encoded data removed]",
      "text/plain": [
       "<Figure size 432x288 with 1 Axes>"
      ]
     },
     "metadata": {
      "needs_background": "light"
     },
     "output_type": "display_data"
    }
   ],
   "source": [
    "# Create bar plot\n",
    "\n",
    "### YOUR CODE HERE ###\n",
    "max_industry_valuation = (companies_sampled[['Industry','valuation_number']]\n",
    "                         .groupby(['Industry'])\n",
    "                         .max()\n",
    "                         .sort_values(['valuation_number'], ascending=True))\n",
    "max_industry_valuation\n",
    "\n",
    "plt.bar(max_industry_valuation.index, max_industry_valuation['valuation_number'])\n",
    "plt.title(\"Bar plot of maximum unicorn company valuation per industry (from sample)\")\n",
    "plt.xlabel(\"Industry\")\n",
    "plt.ylabel(\"Maximum valuation in billions of dollars\")\n",
    "plt.xticks(rotation=45, horizontalalignment='right')\n",
    "plt.show()\n"
   ]
  },
  {
   "cell_type": "markdown",
   "metadata": {
    "id": "441c0e4b-56bf-413c-9d40-abe1e5f13253"
   },
   "source": [
    "**Question:** What do you observe from this bar plot? \n",
    "> *This bar plot shows that for this sample of unicorn companies, the highest maximum valuation occurred in the `Artificial Intelligence` industry, while the lowest maximum valuation occurred in the `Auto & transportation`, and `Consumer & retail industries`.*"
   ]
  },
  {
   "cell_type": "markdown",
   "metadata": {
    "id": "c77e7f0f-d2b9-4464-8a7c-9575d1e1ef9f"
   },
   "source": [
    "## Considerations"
   ]
  },
  {
   "cell_type": "markdown",
   "metadata": {
    "id": "uPq1FOvCZI6w"
   },
   "source": [
    "**What findings would you share with others?**\n",
    "\n",
    "> - There are 1074 unicorn companies represented in this dataset.\n",
    "\n",
    "> - Some companies took longer to reach unicorn status but have accrued high valuation as of March 2022. Companies could take longer to achieve unicorn status for a number of reasons, including requiring more funding or taking longer to develop a business model.\n",
    "\n",
    "**What recommendations would you share with stakeholders based on these findings?**\n",
    "\n",
    "It may be helpful to focus more on industry specifics. Next steps to consider:\n",
    "> - Identify the main industries that the investing firm is interested in investing in. \n",
    "> - Select a subset of this data that includes only companies in those industries. \n",
    "> - Analyze that subset more closely. Determine which companies have higher valuation but do not have as many investors currently. They may be good candidates to consider investing in. "
   ]
  },
  {
   "cell_type": "markdown",
   "metadata": {
    "id": "mVFm54BfZTv5"
   },
   "source": [
    "[Write your response here. Double-click (or enter) to edit.]"
   ]
  },
  {
   "cell_type": "markdown",
   "metadata": {
    "id": "R9sAADZgr-YI"
   },
   "source": [
    "**References**\n",
    "\n",
    "Bhat, M.A. (2022, March). [*Unicorn Companies*](https://www.kaggle.com/datasets/mysarahmadbhat/unicorn-companies). \n",
    "\n"
   ]
  },
  {
   "cell_type": "markdown",
   "metadata": {},
   "source": [
    "**Congratulations!** You've completed this lab. However, you may not notice a green check mark next to this item on Coursera's platform. Please continue your progress regardless of the check mark. Just click on the \"save\" icon at the top of this notebook to ensure your work has been logged."
   ]
  }
 ],
 "metadata": {
  "colab": {
   "collapsed_sections": [],
   "name": "SR-005_Learner_Facing_Lab_Round4.ipynb",
   "provenance": [],
   "toc_visible": true
  },
  "kernelspec": {
   "display_name": "Python 3",
   "language": "python",
   "name": "python3"
  },
  "language_info": {
   "codemirror_mode": {
    "name": "ipython",
    "version": 3
   },
   "file_extension": ".py",
   "mimetype": "text/x-python",
   "name": "python",
   "nbconvert_exporter": "python",
   "pygments_lexer": "ipython3",
   "version": "3.7.6"
  },
  "toc-autonumbering": false,
  "toc-showtags": false
 },
 "nbformat": 4,
 "nbformat_minor": 5
}
